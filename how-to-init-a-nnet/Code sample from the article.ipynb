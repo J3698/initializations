{
 "cells": [
  {
   "cell_type": "markdown",
   "metadata": {},
   "source": [
    "# Code sample from the article\n",
    "\n",
    "This notebook contains the code used by the part of the article \"How to initialize a neural net?\""
   ]
  },
  {
   "cell_type": "code",
   "execution_count": 21,
   "metadata": {
    "ExecuteTime": {
     "end_time": "2019-06-03T14:15:34.400048Z",
     "start_time": "2019-06-03T14:15:34.176770Z"
    }
   },
   "outputs": [],
   "source": [
    "import torch\n",
    "import torch.nn.functional as F\n",
    "import math\n",
    "import matplotlib.pyplot as plt\n",
    "import numpy as np"
   ]
  },
  {
   "cell_type": "code",
   "execution_count": 111,
   "metadata": {},
   "outputs": [],
   "source": [
    "T = 50\n",
    "N = 4048"
   ]
  },
  {
   "cell_type": "markdown",
   "metadata": {},
   "source": [
    "## Difference between theoretical and actual gain for normal init"
   ]
  },
  {
   "cell_type": "code",
   "execution_count": 80,
   "metadata": {
    "ExecuteTime": {
     "end_time": "2019-06-03T14:15:34.459122Z",
     "start_time": "2019-06-03T14:15:34.401328Z"
    },
    "scrolled": false
   },
   "outputs": [
    {
     "name": "stdout",
     "output_type": "stream",
     "text": [
      "[1.00e+00 1.30e+03 2.58e+06 5.10e+09 1.06e+13]\n",
      "[1.00e+00 2.02e+03 4.10e+06 8.29e+09 1.68e+13]\n"
     ]
    },
    {
     "data": {
      "text/plain": [
       "<matplotlib.legend.Legend at 0x7f9cbf866520>"
      ]
     },
     "execution_count": 80,
     "metadata": {},
     "output_type": "execute_result"
    },
    {
     "data": {
      "image/png": "[encoded data removed]",
      "text/plain": [
       "<Figure size 432x288 with 1 Axes>"
      ]
     },
     "metadata": {
      "needs_background": "light"
     },
     "output_type": "display_data"
    }
   ],
   "source": [
    "# x is an input vector (random with mean of 0 and standard deviation of 1)\n",
    "x = torch.randn(N)\n",
    "\n",
    "# linear is a linear layer with output of size 512 (matrix 512x512)\n",
    "linear = torch.nn.Linear(N, N)\n",
    "\n",
    "# we initialize the weight of the linear layer with random number (mean of 0 and standard deviation of 1)\n",
    "torch.nn.init.normal_(linear.weight, mean=0, std=1)\n",
    "torch.nn.init.zeros_(linear.bias)\n",
    "\n",
    "mean = []\n",
    "var = []\n",
    "# We simulate the foward pass of a neural net with 50 layers\n",
    "\n",
    "for i in range(T):\n",
    "    # record stats\n",
    "    mean.append(x.mean())\n",
    "    var.append(x.std()**2)\n",
    "\n",
    "    # apply layer\n",
    "    x = F.relu(linear(x))\n",
    "    \n",
    "    # next layer\n",
    "    torch.nn.init.normal_(linear.weight, mean=0, std=1)\n",
    "    torch.nn.init.zeros_(linear.bias)\n",
    "\n",
    "np.set_printoptions(precision=2)\n",
    "\n",
    "# We get exploding gradient (not a number results)\n",
    "\n",
    "rnge = np.linspace(0, T - 1, T)\n",
    "fx = lambda t: (N/2)**t\n",
    "\n",
    "# print variances\n",
    "print(np.array([i.detach().numpy() for i in var]))\n",
    "print(fx(rnge))\n",
    "\n",
    "# plot variances\n",
    "act = plt.plot(np.log(var), label = \"actual\")\n",
    "theo = plt.plot(rnge, np.log(fx(rnge)), label = \"theoretical\")\n",
    "plt.legend()"
   ]
  },
  {
   "cell_type": "markdown",
   "metadata": {},
   "source": [
    "## Difference between theoretical and actual gain for normal init: Attempt to fix"
   ]
  },
  {
   "cell_type": "code",
   "execution_count": 81,
   "metadata": {
    "ExecuteTime": {
     "end_time": "2019-06-03T14:15:34.459122Z",
     "start_time": "2019-06-03T14:15:34.401328Z"
    },
    "scrolled": false
   },
   "outputs": [
    {
     "name": "stdout",
     "output_type": "stream",
     "text": [
      "[1.01e+00 1.31e+03 2.64e+06 5.41e+09 1.07e+13]\n",
      "[1.00e+00 2.02e+03 4.10e+06 8.29e+09 1.68e+13]\n"
     ]
    },
    {
     "data": {
      "text/plain": [
       "<matplotlib.legend.Legend at 0x7f9cbf84d9d0>"
      ]
     },
     "execution_count": 81,
     "metadata": {},
     "output_type": "execute_result"
    },
    {
     "data": {
      "image/png": "[encoded data removed]",
      "text/plain": [
       "<Figure size 432x288 with 1 Axes>"
      ]
     },
     "metadata": {
      "needs_background": "light"
     },
     "output_type": "display_data"
    }
   ],
   "source": [
    "# x is an input vector (random with mean of 0 and standard deviation of 1)\n",
    "x = torch.randn(N)\n",
    "\n",
    "# linear is a linear layer with output of size 512 (matrix 512x512)\n",
    "linear = torch.nn.Linear(N, N)\n",
    "\n",
    "# we initialize the weight of the linear layer with random number (mean of 0 and standard deviation of 1)\n",
    "torch.nn.init.normal_(linear.weight, mean=0, std=1)\n",
    "torch.nn.init.zeros_(linear.bias)\n",
    "\n",
    "mean = []\n",
    "var = []\n",
    "# We simulate the foward pass of a neural net with 50 layers\n",
    "\n",
    "for i in range(T):\n",
    "    # record stats\n",
    "    mean.append(x.mean())\n",
    "    var_i = ((x-mean[-1])**2).sum() / (x.numel() - 1)\n",
    "    var.append(var_i)\n",
    "    \n",
    "    # apply layer\n",
    "    x = F.relu(linear(x))\n",
    "    \n",
    "    # next layer\n",
    "    torch.nn.init.normal_(linear.weight, mean=0, std=1)\n",
    "    torch.nn.init.zeros_(linear.bias)\n",
    "\n",
    "np.set_printoptions(precision=2)\n",
    "\n",
    "# We get exploding gradient (not a number results)\n",
    "\n",
    "rnge = np.linspace(0, T - 1, T)\n",
    "fx = lambda t: (N/2)**t\n",
    "\n",
    "# print variances\n",
    "print(np.array([i.detach().numpy() for i in var]))\n",
    "print(fx(rnge))\n",
    "\n",
    "# plot variances\n",
    "act = plt.plot(np.log(var), label = \"actual\")\n",
    "theo = plt.plot(rnge, np.log(fx(rnge)), label = \"theoretical\")\n",
    "plt.legend()"
   ]
  },
  {
   "cell_type": "markdown",
   "metadata": {},
   "source": [
    "## Screwed up Kaiming :D"
   ]
  },
  {
   "cell_type": "code",
   "execution_count": 115,
   "metadata": {
    "ExecuteTime": {
     "end_time": "2019-06-03T14:15:34.518926Z",
     "start_time": "2019-06-03T14:15:34.460394Z"
    }
   },
   "outputs": [
    {
     "data": {
      "text/plain": [
       "<matplotlib.legend.Legend at 0x7f9cbb648610>"
      ]
     },
     "execution_count": 115,
     "metadata": {},
     "output_type": "execute_result"
    },
    {
     "data": {
      "image/png": "[encoded data removed]",
      "text/plain": [
       "<Figure size 432x288 with 1 Axes>"
      ]
     },
     "metadata": {
      "needs_background": "light"
     },
     "output_type": "display_data"
    }
   ],
   "source": [
    "# x is an input vector (random with mean of 0 and standard deviation of 1)\n",
    "x = torch.randn(N)\n",
    "\n",
    "# linear is a linear layer with output of size 512 (matrix 512x512)\n",
    "linear = torch.nn.Linear(N, N)\n",
    "\n",
    "with torch.no_grad():\n",
    "    # We multiply the random number by math.sqrt(2/512)\n",
    "    linear.weight = torch.nn.Parameter(linear.weight * math.sqrt(2 / N))\n",
    "\n",
    "# We simulate the foward pass of a neural net with 50 layers\n",
    "mean = []\n",
    "var = []\n",
    "np.set_printoptions(precision=20)\n",
    "\n",
    "for i in range(T):\n",
    "    mean.append(x.mean())\n",
    "    var.append(x.std()**2)\n",
    "\n",
    "    with torch.no_grad():\n",
    "        # We multiply the random number by math.sqrt(2/512)\n",
    "        linear = torch.nn.Linear(N, N)\n",
    "        torch.nn.init.normal_(linear.weight, mean=0, std=1)\n",
    "        linear.weight = torch.nn.Parameter(linear.weight * math.sqrt(2 / N))\n",
    "        #linear.bias.zero_()\n",
    "\n",
    "    x = F.relu(linear(x))\n",
    "\n",
    "mean = np.array([i.detach().numpy() for i in mean])\n",
    "var = np.array([i.detach().numpy() for i in var])\n",
    "\n",
    "mean = plt.plot(var, label = \"log(Var)\")\n",
    "# theo = plt.plot(rnge, np.log(fx(rnge)), label = \"theoretical\")\n",
    "plt.legend()"
   ]
  },
  {
   "cell_type": "code",
   "execution_count": null,
   "metadata": {},
   "outputs": [],
   "source": [
    "## Variance of sum of products"
   ]
  },
  {
   "cell_type": "code",
   "execution_count": 121,
   "metadata": {
    "ExecuteTime": {
     "end_time": "2019-06-03T14:15:34.538535Z",
     "start_time": "2019-06-03T14:15:34.520520Z"
    }
   },
   "outputs": [
    {
     "name": "stdout",
     "output_type": "stream",
     "text": [
      "512.0442338897705\n"
     ]
    }
   ],
   "source": [
    "var = []\n",
    "# Torch.randn generates numbers from a standard distribution (mean of 0 and std of 1)\n",
    "for i in range(10000):\n",
    "    x = torch.randn(512)\n",
    "    W = torch.randn(512,512)\n",
    "\n",
    "    # Each element of the y vector will be calculated by the sum of 512 product \n",
    "    # (each product is between a weight of W and an input of x, both independant and from normal distribution)\n",
    "    y = x @ W\n",
    "\n",
    "    # What is the variance of a sum of 512 elements (each from a stantard distrib with a variance of 1)?\n",
    "    # Answer: it should be around 512\n",
    "    var.append(y.var().item())\n",
    "    # print(f'Variance of y vector: {y.var()}')\n",
    "\n",
    "    # We know that the standard deviation is the square root of the variance. \n",
    "    # So standard deviation of y should be close to the square root of 512\n",
    "    # print(f'Standard deviation of y vector: {y.std()}.')\n",
    "    # print(f'Should be close to square root of vector size: {math.sqrt(512)}')\n",
    "print(np.mean(var))"
   ]
  },
  {
   "cell_type": "code",
   "execution_count": null,
   "metadata": {},
   "outputs": [],
   "source": []
  }
 ],
 "metadata": {
  "kernelspec": {
   "display_name": "Python 3",
   "language": "python",
   "name": "python3"
  },
  "language_info": {
   "codemirror_mode": {
    "name": "ipython",
    "version": 3
   },
   "file_extension": ".py",
   "mimetype": "text/x-python",
   "name": "python",
   "nbconvert_exporter": "python",
   "pygments_lexer": "ipython3",
   "version": "3.8.5"
  }
 },
 "nbformat": 4,
 "nbformat_minor": 2
}
